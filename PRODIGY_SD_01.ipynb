{
 "cells": [
  {
   "cell_type": "code",
   "execution_count": 9,
   "id": "5b86c1c5",
   "metadata": {},
   "outputs": [
    {
     "name": "stdout",
     "output_type": "stream",
     "text": [
      "Temperature Conversion Program\n",
      "-------------------------------\n",
      "Enter a temperature value: 25\n",
      "Enter the original unit (Celsius, Fahrenheit, or Kelvin): kelvin\n",
      "25.0 Kelvin is equivalent to -248.15 degrees Celsius and -414.67 degrees Fahrenheit.\n"
     ]
    }
   ],
   "source": [
    "def celsius_to_fahrenheit(celsius):\n",
    "    return (celsius * 9/5) + 32\n",
    "\n",
    "def celsius_to_kelvin(celsius):\n",
    "    return celsius + 273.15\n",
    "\n",
    "def fahrenheit_to_celsius(fahrenheit):\n",
    "    return (fahrenheit - 32) * 5/9\n",
    "\n",
    "def fahrenheit_to_kelvin(fahrenheit):\n",
    "    return (fahrenheit + 459.67) * 5/9\n",
    "\n",
    "def kelvin_to_celsius(kelvin):\n",
    "    return kelvin - 273.15\n",
    "\n",
    "def kelvin_to_fahrenheit(kelvin):\n",
    "    return (kelvin * 9/5) - 459.67\n",
    "\n",
    "def main():\n",
    "    print(\"Temperature Conversion Program\")\n",
    "    print(\"-------------------------------\")\n",
    "    \n",
    "    try:\n",
    "        temperature = float(input(\"Enter a temperature value: \"))\n",
    "        original_unit = input(\"Enter the original unit (Celsius, Fahrenheit, or Kelvin): \").lower()\n",
    "        \n",
    "        if original_unit == 'celsius':\n",
    "            fahrenheit = celsius_to_fahrenheit(temperature)\n",
    "            kelvin = celsius_to_kelvin(temperature)\n",
    "            print(f\"{temperature} degrees Celsius is equivalent to {fahrenheit:.2f} degrees Fahrenheit and {kelvin:.2f} Kelvin.\")\n",
    "        \n",
    "        elif original_unit == 'fahrenheit':\n",
    "            celsius = fahrenheit_to_celsius(temperature)\n",
    "            kelvin = fahrenheit_to_kelvin(temperature)\n",
    "            print(f\"{temperature} degrees Fahrenheit is equivalent to {celsius:.2f} degrees Celsius and {kelvin:.2f} Kelvin.\")\n",
    "        \n",
    "        elif original_unit == 'kelvin':\n",
    "            celsius = kelvin_to_celsius(temperature)\n",
    "            fahrenheit = kelvin_to_fahrenheit(temperature)\n",
    "            print(f\"{temperature} Kelvin is equivalent to {celsius:.2f} degrees Celsius and {fahrenheit:.2f} degrees Fahrenheit.\")\n",
    "        \n",
    "        else:\n",
    "            print(\"Invalid input. Please enter 'Celsius', 'Fahrenheit', or 'Kelvin' as the original unit.\")\n",
    "\n",
    "    except ValueError:\n",
    "        print(\"Invalid input. Please enter a valid temperature value.\")\n",
    "\n",
    "if __name__ == \"__main__\":\n",
    "    main()\n",
    "    \n"
   ]
  },
  {
   "cell_type": "code",
   "execution_count": null,
   "id": "589f05eb",
   "metadata": {},
   "outputs": [],
   "source": []
  },
  {
   "cell_type": "code",
   "execution_count": null,
   "id": "01e6521f",
   "metadata": {},
   "outputs": [],
   "source": []
  }
 ],
 "metadata": {
  "kernelspec": {
   "display_name": "Python 3 (ipykernel)",
   "language": "python",
   "name": "python3"
  },
  "language_info": {
   "codemirror_mode": {
    "name": "ipython",
    "version": 3
   },
   "file_extension": ".py",
   "mimetype": "text/x-python",
   "name": "python",
   "nbconvert_exporter": "python",
   "pygments_lexer": "ipython3",
   "version": "3.11.4"
  }
 },
 "nbformat": 4,
 "nbformat_minor": 5
}
